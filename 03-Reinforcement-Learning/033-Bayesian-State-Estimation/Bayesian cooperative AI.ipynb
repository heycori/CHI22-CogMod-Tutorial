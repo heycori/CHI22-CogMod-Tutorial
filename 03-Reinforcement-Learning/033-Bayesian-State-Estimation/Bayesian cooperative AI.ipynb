{
 "cells": [
  {
   "cell_type": "code",
   "execution_count": 11,
   "id": "51ec5d2f",
   "metadata": {},
   "outputs": [
    {
     "name": "stdout",
     "output_type": "stream",
     "text": [
      "0.1\n",
      "0.35714285714285715\n",
      "0.8163265306122449\n",
      "0.6896551724137931\n",
      "0.4\n"
     ]
    }
   ],
   "source": [
    "likelihood_of_word_given_appointment = {'hi':1, 'time':0.5, 'date':0.4, 'sale':0.05, 'email':0.6}\n",
    "likelihood_of_word_given_no_appointment = {'hi':1, 'time':0.1, 'date':0.05, 'sale':0.1, 'email':0.4}\n",
    "\n",
    "def bayes_update(prior, word):\n",
    "    evidence = prior * likelihood_of_word_given_appointment[word] + (1-prior) * likelihood_of_word_given_no_appointment[word]\n",
    "    posterior = likelihood_of_word_given_appointment[word] * prior / evidence\n",
    "    return posterior\n",
    "\n",
    "prior_p_appointment = 0.1\n",
    "\n",
    "word = 'hi'\n",
    "\n",
    "posterior = bayes_update(prior_p_appointment, word)\n",
    "\n",
    "print(posterior)\n",
    "\n",
    "posterior = bayes_update(prior_p_appointment, 'time')\n",
    "\n",
    "print(posterior)\n",
    "\n",
    "posterior = bayes_update(posterior, 'date')\n",
    "\n",
    "print(posterior)\n",
    "\n",
    "posterior = bayes_update(posterior, 'sale')\n",
    "\n",
    "print(posterior)\n",
    "\n",
    "posterior = bayes_update(0.5,'email')\n",
    "print(posterior)"
   ]
  },
  {
   "cell_type": "code",
   "execution_count": null,
   "id": "c6a2f3e3",
   "metadata": {},
   "outputs": [],
   "source": []
  }
 ],
 "metadata": {
  "kernelspec": {
   "display_name": "Python 3 (ipykernel)",
   "language": "python",
   "name": "python3"
  },
  "language_info": {
   "codemirror_mode": {
    "name": "ipython",
    "version": 3
   },
   "file_extension": ".py",
   "mimetype": "text/x-python",
   "name": "python",
   "nbconvert_exporter": "python",
   "pygments_lexer": "ipython3",
   "version": "3.9.8"
  }
 },
 "nbformat": 4,
 "nbformat_minor": 5
}
