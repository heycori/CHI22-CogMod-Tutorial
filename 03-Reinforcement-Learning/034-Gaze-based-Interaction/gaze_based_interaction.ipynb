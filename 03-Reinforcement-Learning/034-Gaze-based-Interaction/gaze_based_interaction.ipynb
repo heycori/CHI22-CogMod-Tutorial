{
 "cells": [
  {
   "cell_type": "markdown",
   "id": "fitted-component",
   "metadata": {},
   "source": [
    "# Computationally rational gaze-based interaction\n",
    "\n",
    "Andrew Howes & Xiuli Chen\n",
    "\n",
    "The purpose of this tutorial is to introduce an approach to building computationally rational models.\n",
    "\n",
    "It does the following:\n",
    "\n",
    "* imports libraries,\n",
    "* defines a cognitive POMDP for computational rationality,\n",
    "* defines a theory of gaze based interaction as a cognitive POMDP,\n",
    "* defines auxiliary assumptions (the task),\n",
    "* combines the theory and auxiliary assumptions into a machine learning problem (a model) that can be solved with baselines3,\n",
    "* train the model,\n",
    "* examines the learning curve to ensure that we are generating an approximately optimal policy,\n",
    "* animates the model behaviour to develop our intuitions about its adaptation,\n",
    "* compares the model to human data.\n",
    "\n",
    "Preqrequisites:\n",
    "\n",
    "* foveated vision notebook\n",
    "* Bayesian integration notebook\n",
    "* POMDP notebook\n",
    "* Q-learning notebook\n",
    "* PPO notebook\n"
   ]
  },
  {
   "cell_type": "code",
   "execution_count": 1,
   "id": "obvious-point",
   "metadata": {},
   "outputs": [],
   "source": [
    "import numpy as np\n",
    "import math\n",
    "import matplotlib.pyplot as plt\n",
    "\n",
    "import gym\n",
    "from gym import spaces\n",
    "\n",
    "import matplotlib as mpl\n",
    "%matplotlib inline\n",
    "mpl.style.use('ggplot')\n",
    "\n",
    "from gazetools import *"
   ]
  },
  {
   "cell_type": "markdown",
   "id": "injured-leadership",
   "metadata": {},
   "source": [
    "### A Cognitive POMDP\n",
    "\n",
    "A cognitive POMDP is a framework for specifying 'cognitive problems'. Cognitive problems are theories of the problems faced by cognition.\n",
    "\n",
    "If we assume that people are computationally rational then the optimal solution to a cognitive problem predicts human behavior.\n",
    "\n",
    "\n",
    "<img src=\"image/internal_POMDP.png\" width=400>\n",
    "\n",
    "We can write a program that formalises the cognitive problem."
   ]
  },
  {
   "cell_type": "code",
   "execution_count": 2,
   "id": "monetary-ivory",
   "metadata": {},
   "outputs": [],
   "source": [
    "class CognitiveTheory():\n",
    "\n",
    "    def __init__(self):\n",
    "        self.internal_state = {}\n",
    "        \n",
    "    def step(self, aux, decision):\n",
    "        ''' Define the cognitive POMDP.'''\n",
    "        self._update_state_with_decision(decision)\n",
    "        action = self._get_action()\n",
    "        external_state, done = aux.external_env(action)\n",
    "        percept, percept_std = self._get_percept(aux.external_state)\n",
    "        self._update_state_with_percept(percept, percept_std)\n",
    "        obs = self._get_obs()\n",
    "        reward = self._get_reward()\n",
    "        return obs, reward, done"
   ]
  },
  {
   "cell_type": "markdown",
   "id": "brazilian-timeline",
   "metadata": {},
   "source": [
    "### A theory of gaze-based interaction\n",
    "\n",
    "Each of the entities in CognitiveTheory must be defined so as to state our theory of gaze-based interaction. The theory makes the following assumptions:\n",
    "\n",
    "* Target location percepts in human vision are corrupted by Gaussian noise.\n",
    "* The standard deviation of noise increases linearly with eccentricity from the fovea.\n",
    "* Sequences of noisy percepts are optimally integrated.\n",
    "* Intended eye movements (oculomotor decisions) are corrupted by signal dependent Gaussian noise.\n",
    "\n",
    "These assumptions are further described in Chen et al. (2021)."
   ]
  },
  {
   "cell_type": "code",
   "execution_count": 3,
   "id": "accepted-reunion",
   "metadata": {},
   "outputs": [],
   "source": [
    "class GazeTheory(CognitiveTheory):\n",
    "\n",
    "    def __init__(self):\n",
    "        ''' Initialise the theoretically motivated parameters.'''\n",
    "        # weight eye movement noise with distance of saccade\n",
    "        self.oculamotor_noise_weight = 0.01\n",
    "        # weight noise with eccentricity\n",
    "        self.perceptual_noise_weight = 0.09\n",
    "        # step_cost for the reward function\n",
    "        self.step_cost = -1\n",
    "        # super.__init__()\n",
    "\n",
    "    def reset_internal_env(self, external_state):\n",
    "        ''' The internal state includes the fixation location, the latest estimate of \n",
    "        the target location and the target uncertainty. Assumes that there is no \n",
    "        uncertainty in the fixation location.\n",
    "        Assumes that width is known. All numbers are on scale -1 to 1.\n",
    "        The target_std represents the strength of the prior.'''\n",
    "        self.internal_state = {'fixation': np.array([-1,-1]),  \n",
    "                               'target': np.array([0,0]), \n",
    "                               'target_std': 0.1,# this should be set to the true target_std as defined in GazeTask.\n",
    "                               'width': external_state['width'],\n",
    "                               'decision': np.array([-1,-1])} \n",
    "        return self._get_obs()\n",
    "\n",
    "    def _update_state_with_decision(self, decision):\n",
    "        self.internal_state['decision'] = decision\n",
    "        \n",
    "    def _get_action(self):\n",
    "        ''' Take a decision and add noise.'''\n",
    "        # !!!! should take internal_state as parameter\n",
    "        move_distance = get_distance( self.internal_state['fixation'], \n",
    "                                     self.internal_state['decision'] )\n",
    "        \n",
    "        ocularmotor_noise = np.random.normal(0, self.oculamotor_noise_weight * move_distance, \n",
    "                                        self.internal_state['decision'].shape)\n",
    "        # action is decision plus noise\n",
    "        action = self.internal_state['decision'] + ocularmotor_noise\n",
    "        \n",
    "        # make an adjustment if action is out of range. \n",
    "        # This should be done somewhere other than in the theory.\n",
    "        action = np.clip(action,-1,1)\n",
    "        return action\n",
    "    \n",
    "    def _get_percept(self, external_state):\n",
    "        ''' define a psychologically plausible percept function in which acuity \n",
    "        falls off with eccentricity.''' \n",
    "        eccentricity = get_distance( external_state['target'], external_state['fixation'] )\n",
    "        prcpt_std = self.perceptual_noise_weight * eccentricity\n",
    "        perceptual_noise = np.random.normal(0, prcpt_std, \n",
    "                                         external_state['target'].shape)\n",
    "        prcpt = external_state['target'] + perceptual_noise\n",
    "        return prcpt, prcpt_std\n",
    "\n",
    "    \n",
    "    def _update_state_with_percept(self, percept, percept_std):\n",
    "        posterior, posterior_std = self.bayes_update(percept, \n",
    "                                                     percept_std, \n",
    "                                                     self.internal_state['target'],\n",
    "                                                     self.internal_state['target_std'])\n",
    "        self.internal_state['target'] = posterior\n",
    "        self.internal_state['target_std'] = posterior_std\n",
    "\n",
    "    def bayes_update(self, percept, percept_std, belief, belief_std):\n",
    "        ''' A Bayes optimal obs function that integrates multiple percepts.\n",
    "        The belief is the prior.'''\n",
    "        z1, sigma1 = percept, percept_std\n",
    "        z2, sigma2 = belief, belief_std\n",
    "        w1 = sigma2**2 / (sigma1**2 + sigma2**2)\n",
    "        w2 = sigma1**2 / (sigma1**2 + sigma2**2)\n",
    "        posterior = w1*z1 + w2*z2\n",
    "        posterior_std = np.sqrt( (sigma1**2 * sigma2**2)/(sigma1**2 + sigma2**2) )\n",
    "        return posterior, posterior_std\n",
    "    \n",
    "    def _get_obs(self):\n",
    "        # the Bayesian posterior has already been calculated so just return it.\n",
    "        # could also return the target_std so that the controller knows the uncertainty \n",
    "        # of the observation.\n",
    "        #return self.internal_state['target']\n",
    "        return np.array([self.internal_state['target'][0],\n",
    "                        self.internal_state['target'][1],\n",
    "                        self.internal_state['target_std']])\n",
    "    \n",
    "    def _get_reward(self):\n",
    "        distance = get_distance(self.internal_state['fixation'], \n",
    "                                self.internal_state['target'])\n",
    "        \n",
    "        if distance < self.internal_state['width'] / 2:\n",
    "            reward = 0\n",
    "        else:\n",
    "            reward = -distance # a much better model of the psychological reward function is possible.\n",
    "            \n",
    "        return reward\n"
   ]
  },
  {
   "cell_type": "markdown",
   "id": "boolean-missile",
   "metadata": {},
   "source": [
    "### Auxiliary assumptions\n",
    "\n",
    "In order to test the theory we need to make auxiliary assumptions. For the theory of gaze-based interaction presented here, the auxiliary assumptions mostly concern the task as defined in the external_environment. Auxiliary assumptions allow us to make predictions from the theory for a particular task. The theory makes predictions for many more tasks. For example, adaptation to mixed target widths and distances.\n",
    "\n",
    "Note auxiliary assumptions must not be \"auxiliary hypothesis\". See Gershman (2019) https://link.springer.com/article/10.3758/s13423-018-1488-8"
   ]
  },
  {
   "cell_type": "code",
   "execution_count": 4,
   "id": "bacterial-archives",
   "metadata": {},
   "outputs": [],
   "source": [
    "class GazeTask():\n",
    "    \n",
    "    def __init__(self):\n",
    "        self.target_width = 0.15\n",
    "        self.target_loc_std = 0.3\n",
    "\n",
    "    def reset_external_env(self):\n",
    "        ''' The external_state includes the fixation and target location.\n",
    "        Choose a new target location and reset to the first fixation location.'''\n",
    "        \n",
    "        def _get_new_target():\n",
    "            x_target =np.clip(np.random.normal(0, self.target_loc_std),-1,1)\n",
    "            y_target =np.clip(np.random.normal(0, self.target_loc_std),-1,1)         \n",
    "            return np.array( [x_target, y_target] )\n",
    "    \n",
    "        fx = np.array([-1,-1])\n",
    "        tg = _get_new_target()\n",
    "        self.external_state = {'fixation':fx, 'target':tg, 'width':self.target_width }\n",
    "    \n",
    "    def external_env(self, action):\n",
    "        self.external_state['fixation'] = action\n",
    "        \n",
    "        # determine when the goal has been achieved.\n",
    "        distance = get_distance(self.external_state['fixation'], \n",
    "                                self.external_state['target'])\n",
    "        if distance < self.external_state['width']/2 :\n",
    "            done = True\n",
    "        else:\n",
    "            done = False\n",
    "        \n",
    "        return self.external_state, done\n",
    "    "
   ]
  },
  {
   "cell_type": "markdown",
   "id": "combined-alliance",
   "metadata": {},
   "source": [
    "### Gym environment\n",
    "\n",
    "In order to find an optimal policy we use the theory and auxiliary assumptions to define a machine learning problem, here, making use of the framework defined by one specific library called gym.\n",
    "\n",
    "For further information see: https://gym.openai.com/\n",
    "\n",
    "gym.Env is a class provided by this library. Note that Env here refers to all of the components of the, including both internal and external environment, with the exception of the controller."
   ]
  },
  {
   "cell_type": "code",
   "execution_count": 5,
   "id": "applicable-sleeve",
   "metadata": {},
   "outputs": [],
   "source": [
    "class GazeModel(gym.Env): # also inherit from Alex's BaseModel in Corati.\n",
    "    \n",
    "    def __init__(self):\n",
    "        \n",
    "        def default_box(x):\n",
    "            return spaces.Box(low=-1, high=1, shape=(x, ), dtype=np.float64)\n",
    "        \n",
    "        self.GT = GazeTheory()\n",
    "        self.TX = GazeTask()        \n",
    "        \n",
    "        # Required by gym. These define the range of each variable.\n",
    "        # note that in gym an 'action' is a 'decision' in our framework.\n",
    "        # Each action has an x,y coordinate therefore the box size is 2.\n",
    "        # Each obs has a an x,y and an uncertainty therefore the box size is 3.\n",
    "        self.action_space = default_box(2)\n",
    "        self.observation_space = default_box(3)\n",
    "        \n",
    "        # max_fixations per episode. Used to curtail exploration early in training.\n",
    "        self.max_steps = 500\n",
    "        \n",
    "    def reset(self):\n",
    "        self.n_step = 0\n",
    "        self.TX.reset_external_env()\n",
    "        obs = self.GT.reset_internal_env( self.TX.external_state )\n",
    "        return obs\n",
    "    \n",
    "    def step(self, decision):\n",
    "        obs, reward, done = self.GT.step( self.TX, decision )\n",
    "        self.n_step+=1\n",
    "\n",
    "        # give up if been looking for too long\n",
    "        if self.n_step > self.max_steps:\n",
    "            done = True\n",
    "        \n",
    "        info = self.get_info()\n",
    "        return obs, reward, done, info\n",
    "    \n",
    "    def get_info(self):\n",
    "        return {'step': self.n_step,\n",
    "                'target_width': self.TX.target_width,\n",
    "                'target_x': self.TX.external_state['target'][0],\n",
    "                'target_y': self.TX.external_state['target'][1],\n",
    "                'fixate_x':self.TX.external_state['fixation'][0],\n",
    "                'fixate_y':self.TX.external_state['fixation'][1] }"
   ]
  },
  {
   "cell_type": "markdown",
   "id": "complex-covering",
   "metadata": {},
   "source": [
    "### Test the model\n",
    "\n",
    "Step through the untrained model to check for simple bugs. More comprehensive tests needed."
   ]
  },
  {
   "cell_type": "code",
   "execution_count": 6,
   "id": "4ed00048",
   "metadata": {},
   "outputs": [
    {
     "name": "stdout",
     "output_type": "stream",
     "text": [
      "93\n"
     ]
    }
   ],
   "source": [
    "model = GazeModel()\n",
    "\n",
    "model.reset()\n",
    "\n",
    "i=0\n",
    "done = False\n",
    "while not done:\n",
    "    # make a step with a randomly sampled action\n",
    "    obs, reward, done, info = model.step(model.action_space.sample())\n",
    "    i+=1\n",
    "\n",
    "print(i)"
   ]
  },
  {
   "cell_type": "markdown",
   "id": "cognitive-stevens",
   "metadata": {},
   "source": [
    "### Train the model\n",
    "\n",
    "We can train the model to generate a controller.\n",
    "\n",
    "By plotting the learning curve we can see whether the performance improves with training and whether the model approaches an optimum performance. We are interested in approximately optimal performance, so if the training curve is not approaching asymptote then we need to train with more timesteps or revise the model.\n",
    "\n",
    "We can see that at first the model uses hundreds of fixations to find the target, this is because it has not yet learned to move the gaze in a way that is informed by the observation. As it learns to do this, it takes fewer steps to gaze at the target and its performance improves.\n",
    "\n",
    "If our problem definition is correct then the model will get more 'human-like' the more that it is trained. In other words, training makes it a better model of interaction.\n"
   ]
  },
  {
   "cell_type": "code",
   "execution_count": 7,
   "id": "7d0910ac",
   "metadata": {},
   "outputs": [
    {
     "name": "stdout",
     "output_type": "stream",
     "text": [
      "Done training.\n"
     ]
    },
    {
     "data": {
      "image/png": "[encoded data removed]",
      "text/plain": [
       "<Figure size 432x288 with 1 Axes>"
      ]
     },
     "metadata": {},
     "output_type": "display_data"
    }
   ],
   "source": [
    "timesteps = 5000\n",
    "controller = train(model, timesteps)\n",
    "plot_learning_curve()"
   ]
  },
  {
   "cell_type": "markdown",
   "id": "japanese-georgia",
   "metadata": {},
   "source": [
    "### Run the model\n",
    "Run the trained model and save a trace of each episode to csv file."
   ]
  },
  {
   "cell_type": "code",
   "execution_count": 8,
   "id": "after-evans",
   "metadata": {},
   "outputs": [
    {
     "data": {
      "text/plain": [
       "'output/behaviour_trace.csv'"
      ]
     },
     "execution_count": 8,
     "metadata": {},
     "output_type": "execute_result"
    }
   ],
   "source": [
    "run_model( model, controller, 100, 'behaviour_trace.csv' )"
   ]
  },
  {
   "cell_type": "markdown",
   "id": "stable-capture",
   "metadata": {},
   "source": [
    "### Next\n",
    "\n",
    "Got to notebook 'visualise'"
   ]
  },
  {
   "cell_type": "markdown",
   "id": "weekly-headquarters",
   "metadata": {},
   "source": [
    "### References\n",
    "Chen, X., Acharya, A., Oulasvirta, A., & Howes, A. (2021, May). An adaptive model of gaze-based selection. In Proceedings of the 2021 CHI Conference on Human Factors in Computing Systems (pp. 1-11)."
   ]
  }
 ],
 "metadata": {
  "kernelspec": {
   "display_name": "Python 3",
   "language": "python",
   "name": "python3"
  },
  "language_info": {
   "codemirror_mode": {
    "name": "ipython",
    "version": 3
   },
   "file_extension": ".py",
   "mimetype": "text/x-python",
   "name": "python",
   "nbconvert_exporter": "python",
   "pygments_lexer": "ipython3",
   "version": "3.8.8"
  }
 },
 "nbformat": 4,
 "nbformat_minor": 5
}
