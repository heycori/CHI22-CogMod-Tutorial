{
 "cells": [
  {
   "cell_type": "markdown",
   "id": "catholic-guess",
   "metadata": {},
   "source": [
    "**C06: Cognitive Modelling: From GOMS to Deep Reinforcement Learning**\n",
    "\n",
    "Duration: 4x75min\n",
    "\n",
    "Scheduled: 9am-12pm CDT, April 26 and 9am-12pm CDT, April 27\n",
    "\n",
    "Organizers:\n",
    "\n",
    "Jussi P. P. Jokinen, University of Jyväskylä<br>\n",
    "Antti Oulasvirta, Aalto University<br>\n",
    "Andrew Howes, University of Birmingham\n",
    "\n",
    "Contact email: jussi.p.p.jokinen@jyu.fi\n",
    "\n",
    "https://chi2022.acm.org/for-authors/learning/courses/accepted-courses/\n",
    "\n",
    "This course introduces computational cognitive modeling for researchers and practitioners in the field of HCI. Cognitive models use computer programs to model how users perceive, think, and act in interactive tasks. They offer a powerful approach for understanding interaction and improving user interfaces. The course starts with a review of classic architecture based models such as GOMS and ACT-R. It builds on this review to provide an introduction to modern modelling approaches powered by machine learning methods, in particular deep learning, reinforcement learning (RL), and deep RL. The course is built around hands-on Python programming using notebooks.\n",
    "\n",
    "A basic understanding of programming concepts is a prerequisite for this course and some familiarity with Python and Google Colab Notebooks (similar to Jupyter notebooks) is likely to be useful. If you have followed the README instructions on our repo, https://github.com/howesa/CHI22-CogMod-Tutorial, then hopefully you are reading this text having uploaded it to your private Google Colab. This is a good start and it means that the document you are reading is not a static web page but, instead, an interactive environment. The key property of this interactive environment is that it lets you write and execute code.\n",
    "\n",
    "For example, here is a short python script that computes a predicted movement time MT given the distance D and width W of a button on a screen."
   ]
  },
  {
   "cell_type": "code",
   "execution_count": 4,
   "id": "roman-norfolk",
   "metadata": {},
   "outputs": [
    {
     "data": {
      "text/plain": [
       "1.2975132507415175"
      ]
     },
     "execution_count": 4,
     "metadata": {},
     "output_type": "execute_result"
    }
   ],
   "source": [
    "from math import *\n",
    "\n",
    "a = 1.03\n",
    "b = 0.096\n",
    "D = 8\n",
    "W = 1.25\n",
    "\n",
    "MT = a + b * log2(0.5+D/W)\n",
    "MT"
   ]
  },
  {
   "cell_type": "markdown",
   "id": "confident-accounting",
   "metadata": {},
   "source": [
    "You can execute the code in the above cell by selecting it with a click and then pressing the play button to the left of the code, or by using the keyboard shortcut 'Command/Ctrl+Enter'. \n",
    "\n",
    "To edit the code, click the cell and start typing. For example, you can predict MT for a different distance by changing the value of D and re-running the cell.\n",
    "\n",
    "Some of you will recognise the above formula as Fitts's Law, but whether you recognise it or not, you have have now used Python and Colab to execute your first user model. Congratulations, you are on the path to mastery!\n",
    "\n",
    "Variables that you define in one cell can later be used in other cells:"
   ]
  },
  {
   "cell_type": "code",
   "execution_count": null,
   "id": "large-script",
   "metadata": {},
   "outputs": [],
   "source": []
  }
 ],
 "metadata": {
  "kernelspec": {
   "display_name": "Python 3",
   "language": "python",
   "name": "python3"
  },
  "language_info": {
   "codemirror_mode": {
    "name": "ipython",
    "version": 3
   },
   "file_extension": ".py",
   "mimetype": "text/x-python",
   "name": "python",
   "nbconvert_exporter": "python",
   "pygments_lexer": "ipython3",
   "version": "3.8.8"
  }
 },
 "nbformat": 4,
 "nbformat_minor": 5
}
