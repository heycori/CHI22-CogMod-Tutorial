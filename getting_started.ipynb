{
 "cells": [
  {
   "cell_type": "markdown",
   "id": "catholic-guess",
   "metadata": {},
   "source": [
    "**C06: Cognitive Modelling: From GOMS to Deep Reinforcement Learning**\n",
    "\n",
    "Duration: 4x75min\n",
    "\n",
    "Scheduled: 9am-12pm CDT, April 26 and 9am-12pm CDT, April 27\n",
    "\n",
    "Organizers:\n",
    "\n",
    "Jussi P. P. Jokinen, University of Jyväskylä<br>\n",
    "Antti Oulasvirta, Aalto University<br>\n",
    "Andrew Howes, University of Birmingham\n",
    "\n",
    "Contact email: jussi.p.p.jokinen@jyu.fi\n",
    "\n",
    "https://chi2022.acm.org/for-authors/learning/courses/accepted-courses/\n",
    "\n",
    "This course introduces computational cognitive modeling for researchers and practitioners in the field of HCI. Cognitive models use computer programs to model how users perceive, think, and act in interactive tasks. They offer a powerful approach for understanding interaction and improving user interfaces. The course starts with a review of classic architecture based models such as GOMS and ACT-R. It builds on this review to provide an introduction to modern modelling approaches powered by machine learning methods, in particular deep learning, reinforcement learning (RL), and deep RL. The course is built around hands-on Python programming using notebooks.\n",
    "\n",
    "A basic understanding of programming concepts is a prerequisite for this course and some familiarity with Python and Google Colab Notebooks (similar to Jupyter notebooks) is likely to be useful. If you have followed the README instructions on our repo, https://github.com/howesa/CHI22-CogMod-Tutorial, then hopefully you are reading this text having uploaded it to your private Google Colab. This is a good start and it means that the document you are reading is not a static web page but, instead, an interactive environment. The key property of this interactive environment is that it lets you write and execute code.\n",
    "\n",
    "For example, here is a short Python script that computes a predicted movement time MT given the distance D and width W of a button on a screen."
   ]
  },
  {
   "cell_type": "code",
   "execution_count": 9,
   "id": "roman-norfolk",
   "metadata": {},
   "outputs": [
    {
     "data": {
      "text/plain": [
       "1.2975132507415175"
      ]
     },
     "execution_count": 9,
     "metadata": {},
     "output_type": "execute_result"
    }
   ],
   "source": [
    "from math import *\n",
    "\n",
    "a = 1.03\n",
    "b = 0.096\n",
    "D = 8\n",
    "W = 1.25\n",
    "\n",
    "MT = a + b * log2(0.5+D/W)\n",
    "MT"
   ]
  },
  {
   "cell_type": "markdown",
   "id": "confident-accounting",
   "metadata": {},
   "source": [
    "You can execute the code in the above cell by selecting it with a click and then pressing the play button to the left of the code, or by using the keyboard shortcut 'Command/Ctrl+Enter'. \n",
    "\n",
    "To edit the code, click the cell and start typing. For example, you can predict MT for a different distance by changing the value of D and re-running the cell. Try it now!\n",
    "\n",
    "Some of you will recognise the above formula as Fitts's Law, but whether you recognise it or not, you have have now used Python and Colab to execute your first user model. Congratulations, you are on the path to mastery!\n",
    "\n",
    "Fitts's Law has proved highly influential in HCI since it was used by Card, English and Burr (1978) to compare various input devices. There are many research papers that describe more recent developments of the law, its application, and a number of limitations. One limitation is the fact that the law says nothing about speed/accuracy trade-offs. When a person moves a pointer to a target, they can choose whether to move quickly or slowly. If they choose to move quickly then the chance that they will make an error will increase. This is a topic that we will return to later in the tutorial when we look at reinforcement learning models of cognition. In these models, a reward function determines the desired speed/accuracy trade-off function and predictions of movement time emerge through learning an optimal policy for the reward function. The ability to model speed/accuracy trade-offs is critical to the scientific understanding of HCI because of the adaptive nature of human cognition.\n",
    "\n",
    "For now, lets continue to learn about Colab's notebooks and Python.\n",
    "\n",
    "One important thing to know is that variables that you define in one cell can be used in other cells. For example, the value of MT is available in the code cell below:"
   ]
  },
  {
   "cell_type": "code",
   "execution_count": 3,
   "id": "african-queens",
   "metadata": {},
   "outputs": [
    {
     "data": {
      "text/plain": [
       "1.2975132507415175"
      ]
     },
     "execution_count": 3,
     "metadata": {},
     "output_type": "execute_result"
    }
   ],
   "source": [
    "MT"
   ]
  },
  {
   "cell_type": "markdown",
   "id": "standing-harvest",
   "metadata": {},
   "source": [
    "Code cells can also be used to define Python functions."
   ]
  },
  {
   "cell_type": "code",
   "execution_count": 7,
   "id": "local-stamp",
   "metadata": {},
   "outputs": [],
   "source": [
    "def fitts_mt(D,W):\n",
    "    a = 1.03\n",
    "    b = 0.096\n",
    "    MT = a + b * log2(0.5+D/W)\n",
    "    return MT"
   ]
  },
  {
   "cell_type": "markdown",
   "id": "lesbian-investigation",
   "metadata": {},
   "source": [
    "Run the code cell above to define the function. Once the function is defined, we can call it from other code cells."
   ]
  },
  {
   "cell_type": "code",
   "execution_count": 8,
   "id": "flying-structure",
   "metadata": {},
   "outputs": [
    {
     "data": {
      "text/plain": [
       "1.1327573754775742"
      ]
     },
     "execution_count": 8,
     "metadata": {},
     "output_type": "execute_result"
    }
   ],
   "source": [
    "fitts_mt(2,1.25)"
   ]
  },
  {
   "cell_type": "markdown",
   "id": "instant-practice",
   "metadata": {},
   "source": [
    "**Visualisation of data**\n",
    "\n",
    "Another important feature of Colab notebooks is that they can be used to visualise data. In the code cell below our fitts_mt() function is used to visualise the relationship between MT and distance. "
   ]
  },
  {
   "cell_type": "code",
   "execution_count": 19,
   "id": "crude-lesson",
   "metadata": {},
   "outputs": [
    {
     "data": {
      "image/png": "[encoded data removed]",
      "text/plain": [
       "<Figure size 432x288 with 1 Axes>"
      ]
     },
     "metadata": {
      "needs_background": "light"
     },
     "output_type": "display_data"
    }
   ],
   "source": [
    "import numpy as np\n",
    "from matplotlib import pyplot as plt\n",
    "\n",
    "xs = [x for x in range(1,17)]\n",
    "ys = [fitts_mt(x,1.25) for x in xs]\n",
    "\n",
    "plt.plot(x, ys, '-')\n",
    "plt.xlabel(\"Distance D\")\n",
    "plt.ylabel(\"Movement time MT\")\n",
    "plt.title(\"Fitts's Law\")\n",
    "plt.show()"
   ]
  },
  {
   "cell_type": "markdown",
   "id": "developmental-stupid",
   "metadata": {},
   "source": [
    "You may have noticed the use of the Python import statement in the above code cells. "
   ]
  },
  {
   "cell_type": "markdown",
   "id": "divided-congress",
   "metadata": {},
   "source": [
    "You are now at the end of the \"getting started\" module of the CHI'2022 course on cognitive modeling. Well done, for getting this far. Further modules will provided on the day of the tutorial. We look forward to seeing you there.\n",
    "\n",
    "Jussi Jokinen\n",
    "Antti Oulasvirta\n",
    "Andrew Howes\n",
    "\n",
    "BTW: To find out more about Colab notebooks, see <a href=\"/notebooks/basic_features_overview.ipynb\">Overview of Colab</a>. Colab notebooks are Jupyter notebooks that are hosted by Colab. To find out more about the Jupyter project, see <a href=\"https://www.jupyter.org\">jupyter.org</a>.\n",
    "\n"
   ]
  },
  {
   "cell_type": "markdown",
   "id": "brief-vehicle",
   "metadata": {},
   "source": [
    "**References**\n",
    "\n",
    "Card, S. K., English, W. K., Burr, B. J., 1978. Evaluation of mouse, rate controlled isometric joystick, step keys and text keys for text selection on a CRT. Ergonomics 21, 601-613."
   ]
  },
  {
   "cell_type": "code",
   "execution_count": null,
   "id": "dense-chick",
   "metadata": {},
   "outputs": [],
   "source": []
  }
 ],
 "metadata": {
  "kernelspec": {
   "display_name": "Python 3",
   "language": "python",
   "name": "python3"
  },
  "language_info": {
   "codemirror_mode": {
    "name": "ipython",
    "version": 3
   },
   "file_extension": ".py",
   "mimetype": "text/x-python",
   "name": "python",
   "nbconvert_exporter": "python",
   "pygments_lexer": "ipython3",
   "version": "3.8.8"
  }
 },
 "nbformat": 4,
 "nbformat_minor": 5
}
