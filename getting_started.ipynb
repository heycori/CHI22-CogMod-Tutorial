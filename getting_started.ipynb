{
 "cells": [
  {
   "cell_type": "markdown",
   "id": "catholic-guess",
   "metadata": {},
   "source": [
    "**C06: Cognitive Modelling: From GOMS to Deep Reinforcement Learning**\n",
    "\n",
    "Duration: 4x75min\n",
    "\n",
    "Scheduled: 9am-12pm CDT, April 26 and 9am-12pm CDT, April 27\n",
    "\n",
    "Organizers:\n",
    "\n",
    "Jussi P. P. Jokinen, University of Jyväskylä<br>\n",
    "Antti Oulasvirta, Aalto University<br>\n",
    "Andrew Howes, University of Birmingham\n",
    "\n",
    "Contact email: jussi.p.p.jokinen@jyu.fi\n",
    "\n",
    "https://chi2022.acm.org/for-authors/learning/courses/accepted-courses/\n",
    "\n",
    "This course introduces computational cognitive modeling for researchers and practitioners in the field of HCI. Cognitive models use computer programs to model how users perceive, think, and act in interactive tasks. They offer a powerful approach for understanding interaction and improving user interfaces. The course starts with a review of classic models such as Fitts's Law, GOMS and ACT-R. It builds on this review to provide an introduction to modern modelling approaches powered by machine learning methods, in particular deep learning, reinforcement learning (RL), and deep RL. The course is built around hands-on Python programming using notebooks.\n",
    "\n",
    "A basic understanding of programming concepts is a prerequisite for this course and some familiarity with Python and Google Colab Notebooks (similar to Jupyter notebooks) is likely to be useful. If you have followed the README instructions on our repo, https://github.com/howesa/CHI22-CogMod-Tutorial, then hopefully you are reading this text having uploaded it to your private Google Colab. This is a good start and it means that the document you are reading is not a static web page but, instead, an interactive environment. The key property of this environment is that it lets you write and execute code interactively. \n",
    "\n",
    "We will illustrate interactive code execution in the remainder of this notebook and as we do so we will also review some of the historically important ideas in cognitive modelling for HCI. If you are familiar with notebooks, Python and with Fitts's Law, GOMS, ACT-R and EPIC then you may want to skip the remainder of the current notebook and move to the first module.\n",
    "\n",
    "**Fitts's Law**\n",
    "\n",
    "Here is a short Python script -- in a code cell -- that computes a predicted movement time MT given the distance D and width W of a button on a screen."
   ]
  },
  {
   "cell_type": "code",
   "execution_count": null,
   "id": "roman-norfolk",
   "metadata": {},
   "outputs": [],
   "source": [
    "from math import *\n",
    "\n",
    "a = 1.03\n",
    "b = 0.096\n",
    "D = 8\n",
    "W = 1.25\n",
    "\n",
    "MT = a + b * log2(0.5+D/W)\n",
    "MT"
   ]
  },
  {
   "cell_type": "markdown",
   "id": "confident-accounting",
   "metadata": {},
   "source": [
    "You can execute the code in the above cell by selecting it with a click and then pressing the play button to the left of the code, or by using the keyboard shortcut 'Command/Ctrl+Enter'. \n",
    "\n",
    "To edit the code, click the cell and start typing. For example, you can predict MT for a different distance by changing the value of D and re-running the cell. Try it now!\n",
    "\n",
    "Some of you will recognise the above formula as <strong>Fitts's Law</strong>, but whether you recognise it or not, you have have now used Python and Colab to execute your first model of a user. Congratulations, you are on the path to mastery!\n",
    "\n",
    "Fitts's Law illustrates one key property of models of users in HCI which is that they make <strong>predictions</strong>. If parameters a and b are known then Fitts's Law can be used to predict movement time given the distance and width of a target.\n",
    "\n",
    "<p>\n",
    "<div class=\"warning\" style='padding:0.1em; background-color:#E9D8FD; color:#69337A'>\n",
    "<span>\n",
    "<p style='margin-top:1em; text-align:center'>\n",
    "<b>Reflection</b></p>\n",
    "<p style='margin-left:1em;'>Fitts's Law has proved highly influential in HCI since it was used by Card, English and Burr (1978) to compare various input devices. There are many research papers that describe more recent developments of the law, its application, and a number of limitations. One limitation is the fact that the law says nothing about speed/accuracy trade-offs, nor anything about errors. When a person moves a pointer to a target, they can choose whether to move quickly or slowly. If they choose to move quickly then the chance that they will make an error will increase. This is a topic that we will return to later in the tutorial when we look at reinforcement learning models of cognition. In these models, a reward function determines the desired speed/accuracy trade-off function and predictions of movement time emerge through learning an optimal policy for the reward function. The ability to model speed/accuracy trade-offs is critical to the scientific understanding of HCI because of the adaptive nature of human cognition.\n",
    "<p>\n",
    "</div>\n",
    "\n",
    "For now, lets continue to learn about Colab's notebooks and Python.\n",
    "\n",
    "One important thing to know is that variables that you define in one cell can be used in other cells. For example, the value of MT is available in the code cell below:"
   ]
  },
  {
   "cell_type": "code",
   "execution_count": null,
   "id": "african-queens",
   "metadata": {},
   "outputs": [],
   "source": [
    "MT"
   ]
  },
  {
   "cell_type": "markdown",
   "id": "standing-harvest",
   "metadata": {},
   "source": [
    "Code cells can also be used to define Python functions."
   ]
  },
  {
   "cell_type": "code",
   "execution_count": null,
   "id": "local-stamp",
   "metadata": {},
   "outputs": [],
   "source": [
    "def fitts_mt(D,W):\n",
    "    a = 1.03\n",
    "    b = 0.096\n",
    "    MT = a + b * log2(0.5+D/W)\n",
    "    return MT"
   ]
  },
  {
   "cell_type": "markdown",
   "id": "lesbian-investigation",
   "metadata": {},
   "source": [
    "Run the code cell above to define the function. Once the function is defined, we can call it from other code cells."
   ]
  },
  {
   "cell_type": "code",
   "execution_count": null,
   "id": "flying-structure",
   "metadata": {},
   "outputs": [],
   "source": [
    "fitts_mt(2,1.25)"
   ]
  },
  {
   "cell_type": "markdown",
   "id": "instant-practice",
   "metadata": {},
   "source": [
    "Another important feature of Colab notebooks is that they can be used to visualise data. In the code cell below our fitts_mt() function is used to visualise the relationship between MT and distance. "
   ]
  },
  {
   "cell_type": "code",
   "execution_count": null,
   "id": "crude-lesson",
   "metadata": {
    "scrolled": true
   },
   "outputs": [],
   "source": [
    "import numpy as np\n",
    "from matplotlib import pyplot as plt\n",
    "\n",
    "xs = [x for x in range(1,17)]\n",
    "ys = [fitts_mt(x,1.25) for x in xs]\n",
    "\n",
    "plt.plot(xs, ys, '-')\n",
    "plt.xlabel(\"Distance D\")\n",
    "plt.ylabel(\"Movement time MT\")\n",
    "plt.title(\"Fitts's Law\")\n",
    "plt.show()"
   ]
  },
  {
   "cell_type": "markdown",
   "id": "developmental-stupid",
   "metadata": {},
   "source": [
    "You may have noticed the use of the Python import statement in the above code cells. As their name suggests these import code from libraries. There are many basic libraries in python that are used for maths and plotting, for example. More exciting are the libraries that support machine learning. We will see as the tutorial progresses that these libraries can be very useful for modeling cognition."
   ]
  },
  {
   "cell_type": "markdown",
   "id": "opposite-calculator",
   "metadata": {},
   "source": [
    "**GOMS**\n",
    "\n",
    "GOMS was a 1980s approach to cognitive modeling in Human-Computer Interaction in which human skill for computing systems was represented in terms of goals, operators, methods and selection rules. Many other methods for modeling task knowledge were based on similar concepts and GOMS gave rise to many variants through the 1980s and in to the 2000s. Though their meanings have been refined, these concepts remain useful today, and it is worth briefly reviewing them. \n",
    "\n",
    "Goals are what the user has to accomplish and represent the end towards which the user is directed. Example goals might include making a set of changes to a text document or replying to an email.  Goals typically have subgoals giving rise to the hierarchical structure of skill. For example, the goal of correcting the typos in a text might have as subgoals to \"delete text\" and \"insert word\". \n",
    "\n",
    "Operators model what a user can do in service of a goal. Operators may be theories of how a user makes changes to the external environment or they may be theories of mental operators that, for example, update memory. The very lowest level of operator could be indiviudal muscle axon innervations but cognitive models typically define operators at a much higher level than this. For example, a cognitive model of form filling might define operators at the word entry level, whereas a cognitive model of typing might define operators at a character level. \n",
    "\n",
    "Methods are sequences of subgoals and operators that achieve specific goals. For example, the goal of entering a name into a form might be accomplished with methods that we can represent with Python functions."
   ]
  },
  {
   "cell_type": "code",
   "execution_count": null,
   "id": "precious-cliff",
   "metadata": {},
   "outputs": [],
   "source": [
    "def enter_name():\n",
    "    move_caret_to_location()\n",
    "    print(\"ENTER NAME\")\n",
    "\n",
    "def move_caret_to_location():\n",
    "    print(\"DETECT LOCATION\")\n",
    "    print(\"MOVE MOUSE UNTIL POINTER AT LOCATION\")\n",
    "    print(\"CLICK MOUSE\")\n",
    "\n",
    "enter_name()"
   ]
  },
  {
   "cell_type": "markdown",
   "id": "gentle-stanford",
   "metadata": {},
   "source": [
    "When the code cell above is executed, the GOMS methods for the goal ENTER NAME are expanded resulting in the required operator sequence being printed.\n",
    "\n",
    "Selection Rules choose between different methods for achieving a goal. For example, an alternative method for ENTER NAME might use TAB to move the caret from an earlier location rather than using the mouse. The selection rule might prefer one method or the other depending on the sequentiality of the entry process.\n",
    "\n",
    "The difference between a goal and an operator in GOMS is that operators are not broken down any further; they are at the bottom of a hierarchy of subgoals. Card, Moran and Newell demonstrated GOMS models at 4 levels of analysis. At one level the operators represented tasks taking about 30 seconds, at another the operators represented single keystrokes. As with Fitts's Law, the idea was that GOMS could be used to predict human performance time by adding up the durations of the sequence of operators required to achieve a goal. \n",
    "<p>\n",
    "<div class=\"warning\" style='padding:0.1em; background-color:#E9D8FD; color:#69337A'>\n",
    "<span>\n",
    "<p style='margin-top:1em; text-align:center'>\n",
    "<b>Reflection</b></p>\n",
    "<p style='margin-left:1em;'>GOMS embodied a number of concepts tha remain important to modeling today. These include the idea that human task knowledge is hierarchical and that goals are decomposed into subgoals and eventually operators. This ideas echoes in modern ideas concerning hierarchical reinforcement learning, for example.\n",
    "\n",
    "<p style='margin-left:1em;'>But, there are a number of concepts missing in GOMS that are crucial to modern analyses of task knowledge. One of these concepts is that of utility (or reward). \n",
    "\n",
    "<p style='margin-left:1em;'>Another is the extent to which task knowledge is now known to  be conditioned on state; that is on bottom-up information and not just on top-down hierarchical control. Cognition is embodied and interactive.\n",
    "<p>\n",
    "</div>\n"
   ]
  },
  {
   "cell_type": "markdown",
   "id": "divided-congress",
   "metadata": {},
   "source": [
    "**Discussion**\n",
    "\n",
    "You are now at the end of the \"getting started\" module of the CHI'2022 course on cognitive modeling. Well done, for getting this far. Further modules will provided on the day of the tutorial. We look forward to seeing you there.\n",
    "\n",
    "Jussi Jokinen<br>\n",
    "Antti Oulasvirta<br>\n",
    "Andrew Howes\n",
    "\n",
    "***Postscript***\n",
    "\n",
    "To find out more about Colab notebooks, see <a href=\"/notebooks/basic_features_overview.ipynb\">Overview of Colab</a>. Colab notebooks are Jupyter notebooks that are hosted by Colab. To find out more about the Jupyter project, see <a href=\"https://www.jupyter.org\">jupyter.org</a>.\n",
    "\n"
   ]
  },
  {
   "cell_type": "markdown",
   "id": "brief-vehicle",
   "metadata": {},
   "source": [
    "**References**\n",
    "\n",
    "Card, S. M., & Newell, T. (1983). A.(1983)“The Psychology of Human-Computer Interaction.”.\n",
    "\n",
    "Card, S. K., English, W. K., Burr, B. J., 1978. Evaluation of mouse, rate controlled isometric joystick, step keys and text keys for text selection on a CRT. Ergonomics 21, 601-613.\n",
    "\n",
    "John, B. E., & Kieras, D. E. (1996). The GOMS family of user interface analysis techniques: Comparison and contrast. ACM Transactions on Computer-Human Interaction (TOCHI), 3(4), 320-351."
   ]
  },
  {
   "cell_type": "code",
   "execution_count": null,
   "id": "dense-chick",
   "metadata": {},
   "outputs": [],
   "source": []
  }
 ],
 "metadata": {
  "kernelspec": {
   "display_name": "Python 3",
   "language": "python",
   "name": "python3"
  },
  "language_info": {
   "codemirror_mode": {
    "name": "ipython",
    "version": 3
   },
   "file_extension": ".py",
   "mimetype": "text/x-python",
   "name": "python",
   "nbconvert_exporter": "python",
   "pygments_lexer": "ipython3",
   "version": "3.8.8"
  }
 },
 "nbformat": 4,
 "nbformat_minor": 5
}
