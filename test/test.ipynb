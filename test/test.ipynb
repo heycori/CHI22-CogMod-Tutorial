{
 "cells": [
  {
   "cell_type": "code",
   "execution_count": null,
   "id": "regional-oklahoma",
   "metadata": {},
   "outputs": [],
   "source": [
    "from google.colab import drive\n",
    "drive.mount('/content/drive')"
   ]
  },
  {
   "cell_type": "code",
   "execution_count": null,
   "id": "modified-maximum",
   "metadata": {},
   "outputs": [],
   "source": [
    "%cd '/content/drive/MyDrive/CHI22CMT/CHI22_CogMod_Tutorial/test'"
   ]
  },
  {
   "cell_type": "code",
   "execution_count": null,
   "id": "monthly-norman",
   "metadata": {},
   "outputs": [],
   "source": [
    "import my_module\n",
    "\n",
    "my_module.hello()"
   ]
  }
 ],
 "metadata": {
  "kernelspec": {
   "display_name": "Python 3",
   "language": "python",
   "name": "python3"
  },
  "language_info": {
   "codemirror_mode": {
    "name": "ipython",
    "version": 3
   },
   "file_extension": ".py",
   "mimetype": "text/x-python",
   "name": "python",
   "nbconvert_exporter": "python",
   "pygments_lexer": "ipython3",
   "version": "3.8.8"
  }
 },
 "nbformat": 4,
 "nbformat_minor": 5
}
